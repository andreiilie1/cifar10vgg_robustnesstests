{
 "cells": [
  {
   "cell_type": "code",
   "execution_count": 1,
   "metadata": {},
   "outputs": [],
   "source": [
    "from __future__ import print_function\n",
    "\n",
    "import tensorflow.keras\n",
    "from tensorflow.keras.datasets import cifar10\n",
    "from tensorflow.keras.preprocessing.image import ImageDataGenerator\n",
    "from tensorflow.keras.models import Sequential\n",
    "from tensorflow.keras.layers import Dense, Dropout, Activation, Flatten\n",
    "from tensorflow.keras.layers import Conv2D, MaxPooling2D, BatchNormalization\n",
    "from tensorflow.keras import optimizers\n",
    "from tensorflow.keras import backend as K\n",
    "from tensorflow.keras import regularizers\n",
    "\n",
    "import numpy as np\n",
    "import matplotlib.pyplot as plt\n",
    "import json\n",
    "\n",
    "from cifar10vgg import cifar10vgg\n",
    "from mnistcnn import mnistcnn\n",
    "from noise import noisy, check_noise_robustness_multiple_rounds\n",
    "from data_manager import load_data\n",
    "\n",
    "from IPython.display import clear_output\n",
    "\n",
    "%config Completer.use_jedi = False"
   ]
  },
  {
   "cell_type": "code",
   "execution_count": 2,
   "metadata": {},
   "outputs": [],
   "source": [
    "(x_train_mnist, y_train_mnist), (x_test_mnist, y_test_mnist) = load_data(\"mnist\")"
   ]
  },
  {
   "cell_type": "code",
   "execution_count": 3,
   "metadata": {},
   "outputs": [],
   "source": [
    "model_mnist = mnistcnn(train = False)"
   ]
  },
  {
   "cell_type": "code",
   "execution_count": 60,
   "metadata": {},
   "outputs": [
    {
     "data": {
      "text/plain": [
       "60000"
      ]
     },
     "execution_count": 60,
     "metadata": {},
     "output_type": "execute_result"
    }
   ],
   "source": [
    "len(x_train_mnist)"
   ]
  },
  {
   "cell_type": "code",
   "execution_count": 66,
   "metadata": {},
   "outputs": [],
   "source": [
    "sample_size_mnist_train = 60000\n",
    "sample_x_train_mnist = np.copy(x_train_mnist[:sample_size_mnist_train])\n",
    "sample_y_train_mnist = np.copy(y_train_mnist[:sample_size_mnist_train])\n",
    "\n",
    "sample_size_mnist = len(x_test_mnist)\n",
    "sample_x_test_mnist = np.copy(x_test_mnist[:sample_size_mnist])\n",
    "sample_y_test_mnist = np.copy(y_test_mnist[:sample_size_mnist])"
   ]
  },
  {
   "cell_type": "code",
   "execution_count": 64,
   "metadata": {},
   "outputs": [
    {
     "data": {
      "text/plain": [
       "98"
      ]
     },
     "execution_count": 64,
     "metadata": {},
     "output_type": "execute_result"
    }
   ],
   "source": [
    "STEPS = 250\n",
    "sum(np.argmax(model_mnist.predict(sample_x_test_mnist),1) == np.argmax(sample_y_test_mnist,1))"
   ]
  },
  {
   "cell_type": "code",
   "execution_count": 65,
   "metadata": {},
   "outputs": [
    {
     "name": "stdout",
     "output_type": "stream",
     "text": [
      "Previous robustness:  0.7129833333333333\n"
     ]
    },
    {
     "data": {
      "image/png": "[encoded data removed]",
      "text/plain": [
       "<Figure size 432x288 with 1 Axes>"
      ]
     },
     "metadata": {
      "needs_background": "light"
     },
     "output_type": "display_data"
    }
   ],
   "source": [
    "agreements_cell_train_mnist, saved_noisy_imgs_cell_train_mnist = check_noise_robustness_multiple_rounds(\n",
    "    model_mnist, \n",
    "    sample_x_train_mnist, \n",
    "    sample_y_train_mnist, \n",
    "    STEPS, \n",
    "    noise_type=\"cells\",\n",
    "    args={\"cell_count\":28}\n",
    ")"
   ]
  },
  {
   "cell_type": "code",
   "execution_count": 70,
   "metadata": {},
   "outputs": [],
   "source": [
    "robust_img_indices = list(map(lambda x: list(x) == list([]), saved_noisy_imgs_cell_train_mnist))\n",
    "X_train_robust = sample_x_train_mnist[robust_img_indices]\n",
    "Y_train_robust = sample_y_train_mnist[robust_img_indices]\n",
    "# np.array(list(map(lambda x: list(x) == list([]), saved_noisy_imgs_cell_train_mnist))).sum()\n",
    "# sample_x_train_mnist[list(map(lambda x: list(x) == list([]), saved_noisy_imgs_cell_train_mnist))]"
   ]
  },
  {
   "cell_type": "code",
   "execution_count": 72,
   "metadata": {},
   "outputs": [],
   "source": [
    "np.savez(\"test.npz\", X_train_robust, Y_train_robust)"
   ]
  },
  {
   "cell_type": "code",
   "execution_count": 88,
   "metadata": {},
   "outputs": [
    {
     "data": {
      "text/plain": [
       "(42767, 28, 28, 1)"
      ]
     },
     "execution_count": 88,
     "metadata": {},
     "output_type": "execute_result"
    }
   ],
   "source": [
    "tx = np.load(\"test.npz\")\n",
    "len(tx[\"arr_0\"])\n",
    "len(tx[\"arr_1\"])\n",
    "np.shape(tx[\"arr_0\"])"
   ]
  },
  {
   "cell_type": "code",
   "execution_count": 67,
   "metadata": {},
   "outputs": [
    {
     "name": "stdout",
     "output_type": "stream",
     "text": [
      "Previous robustness:  0.7157\n"
     ]
    },
    {
     "data": {
      "image/png": "[encoded data removed]",
      "text/plain": [
       "<Figure size 432x288 with 1 Axes>"
      ]
     },
     "metadata": {
      "needs_background": "light"
     },
     "output_type": "display_data"
    }
   ],
   "source": [
    "agreements_cell_test_mnist, saved_noisy_imgs_cell_test_mnist = check_noise_robustness_multiple_rounds(\n",
    "    model_mnist, \n",
    "    sample_x_test_mnist, \n",
    "    sample_y_test_mnist, \n",
    "    STEPS, \n",
    "    noise_type=\"cells\",\n",
    "    args={\"cell_count\":28}\n",
    ")"
   ]
  },
  {
   "cell_type": "code",
   "execution_count": null,
   "metadata": {},
   "outputs": [],
   "source": [
    "(x_train, y_train), (x_test, y_test) = load_data(\"cifar10\")"
   ]
  },
  {
   "cell_type": "code",
   "execution_count": 7,
   "metadata": {},
   "outputs": [
    {
     "name": "stdout",
     "output_type": "stream",
     "text": [
      "the validation 0/1 loss is:  0.0641\n",
      "Top-1 accuracy: 0.9359\n"
     ]
    }
   ],
   "source": [
    "model = cifar10vgg(train = False)\n",
    "\n",
    "predicted_x = model.predict(x_test)\n",
    "residuals = np.argmax(predicted_x,1)!=np.argmax(y_test, 1)\n",
    "\n",
    "loss = sum(residuals)/len(residuals)\n",
    "print(\"the validation 0/1 loss is: \",loss)\n",
    "\n",
    "residuals = np.argmax(predicted_x,1)==np.argmax(y_test, 1)\n",
    "acc = sum(residuals)/len(residuals)\n",
    "print(\"Top-1 accuracy:\", acc)"
   ]
  },
  {
   "cell_type": "code",
   "execution_count": 8,
   "metadata": {},
   "outputs": [],
   "source": [
    "sample_size = 100\n",
    "sample_x_train = np.copy(x_train[:sample_size])\n",
    "sample_y_train = np.copy(y_train[:sample_size])\n",
    "\n",
    "sample_x_test = np.copy(x_test[:sample_size])\n",
    "sample_y_test = np.copy(y_test[:sample_size])"
   ]
  },
  {
   "cell_type": "code",
   "execution_count": 9,
   "metadata": {},
   "outputs": [],
   "source": [
    "sample_train_pred = model.predict(sample_x_train)"
   ]
  },
  {
   "cell_type": "code",
   "execution_count": 10,
   "metadata": {},
   "outputs": [],
   "source": [
    "sample_test_pred = model.predict(sample_x_test)"
   ]
  },
  {
   "cell_type": "code",
   "execution_count": 11,
   "metadata": {},
   "outputs": [
    {
     "data": {
      "text/plain": [
       "100"
      ]
     },
     "execution_count": 11,
     "metadata": {},
     "output_type": "execute_result"
    }
   ],
   "source": [
    "train_sample_accuracy =  (np.argmax(sample_train_pred, 1) == np.argmax(sample_y_train, 1)).sum() / len(sample_train_pred)\n",
    "(np.argmax(sample_train_pred, 1) == np.argmax(sample_y_train, 1)).sum()"
   ]
  },
  {
   "cell_type": "code",
   "execution_count": 12,
   "metadata": {},
   "outputs": [
    {
     "data": {
      "text/plain": [
       "0.95"
      ]
     },
     "execution_count": 12,
     "metadata": {},
     "output_type": "execute_result"
    }
   ],
   "source": [
    "test_sample_accuracy =  (np.argmax(sample_test_pred, 1) == np.argmax(sample_y_test, 1)).sum() / len(sample_test_pred)\n",
    "test_sample_accuracy"
   ]
  },
  {
   "cell_type": "code",
   "execution_count": 13,
   "metadata": {},
   "outputs": [],
   "source": [
    "y_train_pred = model.predict(x_train)"
   ]
  },
  {
   "cell_type": "code",
   "execution_count": 14,
   "metadata": {},
   "outputs": [],
   "source": [
    "train_acc = (np.argmax(y_train_pred, 1) == np.argmax(y_train, 1)).sum() / len(x_train)"
   ]
  },
  {
   "cell_type": "code",
   "execution_count": 15,
   "metadata": {},
   "outputs": [],
   "source": [
    "y_test_pred = model.predict(x_test)"
   ]
  },
  {
   "cell_type": "code",
   "execution_count": 16,
   "metadata": {},
   "outputs": [],
   "source": [
    "test_acc = (np.argmax(y_test_pred, 1) == np.argmax(y_test, 1)).sum() / len(x_test)"
   ]
  },
  {
   "cell_type": "code",
   "execution_count": 17,
   "metadata": {},
   "outputs": [
    {
     "name": "stdout",
     "output_type": "stream",
     "text": [
      "Train accuracy: 0.99982\n",
      "Test accuracy: 0.9359\n"
     ]
    }
   ],
   "source": [
    "print(\"Train accuracy:\", train_acc)\n",
    "print(\"Test accuracy:\", test_acc)\n",
    "STEPS = 10"
   ]
  },
  {
   "cell_type": "code",
   "execution_count": 1,
   "metadata": {},
   "outputs": [
    {
     "ename": "NameError",
     "evalue": "name 'check_noise_robustness_multiple_rounds' is not defined",
     "output_type": "error",
     "traceback": [
      "\u001b[0;31m---------------------------------------------------------------------------\u001b[0m",
      "\u001b[0;31mNameError\u001b[0m                                 Traceback (most recent call last)",
      "\u001b[0;32m<ipython-input-1-68b76f78f2fa>\u001b[0m in \u001b[0;36m<module>\u001b[0;34m\u001b[0m\n\u001b[0;32m----> 1\u001b[0;31m \u001b[0magreements_cell_train\u001b[0m\u001b[0;34m,\u001b[0m \u001b[0msaved_noisy_imgs_cell_train\u001b[0m \u001b[0;34m=\u001b[0m \u001b[0mcheck_noise_robustness_multiple_rounds\u001b[0m\u001b[0;34m(\u001b[0m\u001b[0mmodel\u001b[0m\u001b[0;34m,\u001b[0m \u001b[0msample_x_train\u001b[0m\u001b[0;34m,\u001b[0m \u001b[0msample_y_train\u001b[0m\u001b[0;34m,\u001b[0m \u001b[0mSTEPS\u001b[0m\u001b[0;34m,\u001b[0m \u001b[0mnoise_type\u001b[0m\u001b[0;34m=\u001b[0m\u001b[0;34m\"cells\"\u001b[0m\u001b[0;34m)\u001b[0m\u001b[0;34m\u001b[0m\u001b[0;34m\u001b[0m\u001b[0m\n\u001b[0m",
      "\u001b[0;31mNameError\u001b[0m: name 'check_noise_robustness_multiple_rounds' is not defined"
     ]
    }
   ],
   "source": [
    "agreements_cell_train, saved_noisy_imgs_cell_train = check_noise_robustness_multiple_rounds(model, sample_x_train, sample_y_train, STEPS, noise_type=\"cells\")"
   ]
  },
  {
   "cell_type": "markdown",
   "metadata": {},
   "source": [
    "<h3>For the 1024 pixels images we perturb at random only 32 of them ($\\mathcal{O}(\\sqrt{n})$ pixels)</h3>"
   ]
  },
  {
   "cell_type": "code",
   "execution_count": 17,
   "metadata": {},
   "outputs": [
    {
     "name": "stdout",
     "output_type": "stream",
     "text": [
      "Step 149\n",
      "Previous robustness:  0.481\n"
     ]
    },
    {
     "data": {
      "image/png": "[encoded data removed]",
      "text/plain": [
       "<Figure size 432x288 with 1 Axes>"
      ]
     },
     "metadata": {
      "needs_background": "light"
     },
     "output_type": "display_data"
    }
   ],
   "source": [
    "agreements_cell_train, saved_noisy_imgs_cell_train = check_noise_robustness_multiple_rounds(model, sample_x_train, sample_y_train, STEPS, noise_type=\"cells\")"
   ]
  },
  {
   "cell_type": "code",
   "execution_count": 18,
   "metadata": {},
   "outputs": [
    {
     "name": "stdout",
     "output_type": "stream",
     "text": [
      "Step 149\n",
      "Previous robustness:  0.425\n"
     ]
    },
    {
     "data": {
      "image/png": "[encoded data removed]",
      "text/plain": [
       "<Figure size 432x288 with 1 Axes>"
      ]
     },
     "metadata": {
      "needs_background": "light"
     },
     "output_type": "display_data"
    }
   ],
   "source": [
    "agreements_cell_test, saved_noisy_imgs_cell_test = check_noise_robustness_multiple_rounds(model, sample_x_test, sample_y_test, STEPS, noise_type=\"cells\")"
   ]
  },
  {
   "cell_type": "markdown",
   "metadata": {},
   "source": [
    "<h3>Gaussian noise added to all the pixels with high std and mean 0, which however yields easily understandable pictures (see examples at the end of the code)</h3>"
   ]
  },
  {
   "cell_type": "code",
   "execution_count": 19,
   "metadata": {},
   "outputs": [
    {
     "name": "stdout",
     "output_type": "stream",
     "text": [
      "Step 149\n",
      "Previous robustness:  0.62\n"
     ]
    },
    {
     "data": {
      "image/png": "[encoded data removed]",
      "text/plain": [
       "<Figure size 432x288 with 1 Axes>"
      ]
     },
     "metadata": {
      "needs_background": "light"
     },
     "output_type": "display_data"
    }
   ],
   "source": [
    "agreements_gauss_train, saved_noisy_imgs_gauss_train = check_noise_robustness_multiple_rounds(model, sample_x_train, sample_y_train, STEPS, noise_type=\"gauss\")"
   ]
  },
  {
   "cell_type": "code",
   "execution_count": 20,
   "metadata": {},
   "outputs": [
    {
     "name": "stdout",
     "output_type": "stream",
     "text": [
      "Step 149\n",
      "Previous robustness:  0.544\n"
     ]
    },
    {
     "data": {
      "image/png": "[encoded data removed]",
      "text/plain": [
       "<Figure size 432x288 with 1 Axes>"
      ]
     },
     "metadata": {
      "needs_background": "light"
     },
     "output_type": "display_data"
    }
   ],
   "source": [
    "agreements_gauss_test, saved_noisy_imgs_gauss_test = check_noise_robustness_multiple_rounds(model, sample_x_test, sample_y_test, STEPS, noise_type=\"gauss\")"
   ]
  },
  {
   "cell_type": "markdown",
   "metadata": {},
   "source": [
    "<h3>For the 1024 pixels images we perturb at random only 10 of them ($\\mathcal{O}(\\log{n})$ pixels)</h3>"
   ]
  },
  {
   "cell_type": "code",
   "execution_count": 21,
   "metadata": {},
   "outputs": [
    {
     "name": "stdout",
     "output_type": "stream",
     "text": [
      "Step 149\n",
      "Previous robustness:  0.828\n"
     ]
    },
    {
     "data": {
      "image/png": "[encoded data removed]",
      "text/plain": [
       "<Figure size 432x288 with 1 Axes>"
      ]
     },
     "metadata": {
      "needs_background": "light"
     },
     "output_type": "display_data"
    }
   ],
   "source": [
    "agreements_logcell_train, saved_noisy_imgs_logcell_train = check_noise_robustness_multiple_rounds(model, sample_x_train, sample_y_train, STEPS, noise_type=\"cells\", args={\"cell_count\":10})"
   ]
  },
  {
   "cell_type": "code",
   "execution_count": 22,
   "metadata": {},
   "outputs": [
    {
     "name": "stdout",
     "output_type": "stream",
     "text": [
      "Step 149\n",
      "Previous robustness:  0.682\n"
     ]
    },
    {
     "data": {
      "image/png": "[encoded data removed]",
      "text/plain": [
       "<Figure size 432x288 with 1 Axes>"
      ]
     },
     "metadata": {
      "needs_background": "light"
     },
     "output_type": "display_data"
    }
   ],
   "source": [
    "agreements_logcell_test, saved_noisy_imgs_logcell_test = check_noise_robustness_multiple_rounds(model, sample_x_test, sample_y_test, STEPS, noise_type=\"cells\", args={\"cell_count\":10})"
   ]
  },
  {
   "cell_type": "markdown",
   "metadata": {},
   "source": [
    "Sanity check, perturbing almost all pixels (perturbations are with repetitions, therefore not exatly all) yields accuracy of approximately 1/10"
   ]
  },
  {
   "cell_type": "code",
   "execution_count": 37,
   "metadata": {},
   "outputs": [
    {
     "name": "stdout",
     "output_type": "stream",
     "text": [
      "Step 0\n"
     ]
    }
   ],
   "source": [
    "bs1, bs2 = check_noise_robustness_multiple_rounds(model, sample_x_test, sample_y_test, 1, noise_type=\"cells\", args={\"cell_count\":32*32})"
   ]
  },
  {
   "cell_type": "code",
   "execution_count": 39,
   "metadata": {},
   "outputs": [
    {
     "data": {
      "text/plain": [
       "0.112"
      ]
     },
     "execution_count": 39,
     "metadata": {},
     "output_type": "execute_result"
    }
   ],
   "source": [
    "bs1.sum()/len(bs1)"
   ]
  },
  {
   "cell_type": "code",
   "execution_count": 23,
   "metadata": {},
   "outputs": [],
   "source": [
    "test_gauss_and_cell_robustness = np.logical_and(agreements_gauss_test, agreements_cell_test).sum()/len(agreements_gauss_test)\n",
    "train_gauss_and_cell_robustness = np.logical_and(agreements_gauss_train, agreements_cell_train).sum()/len(agreements_gauss_train)"
   ]
  },
  {
   "cell_type": "code",
   "execution_count": 25,
   "metadata": {},
   "outputs": [],
   "source": [
    "import pandas as pd"
   ]
  },
  {
   "cell_type": "code",
   "execution_count": 26,
   "metadata": {},
   "outputs": [],
   "source": [
    "train_cell_robustness = (agreements_cell_train).sum()/len(agreements_cell_train)\n",
    "test_cell_robustness = (agreements_cell_test).sum()/len(agreements_cell_test)\n",
    "train_gauss_robustness = (agreements_gauss_train).sum()/len(agreements_gauss_train)\n",
    "test_gauss_robustness = (agreements_gauss_test).sum()/len(agreements_gauss_test)\n",
    "train_logcell_robustness = agreements_logcell_train.sum()/len(agreements_logcell_train)\n",
    "test_logcell_robustness = agreements_logcell_test.sum()/len(agreements_logcell_test)"
   ]
  },
  {
   "cell_type": "code",
   "execution_count": 40,
   "metadata": {},
   "outputs": [],
   "source": [
    "df = pd.DataFrame(\n",
    "    [\n",
    "        [train_sample_accuracy, test_sample_accuracy],\n",
    "        [train_cell_robustness, test_cell_robustness],\n",
    "        [train_gauss_robustness, test_gauss_robustness],\n",
    "        [train_gauss_and_cell_robustness, test_gauss_and_cell_robustness],\n",
    "        [train_logcell_robustness, test_logcell_robustness]\n",
    "    ], \n",
    "    columns=[\"Train\", \"Test\"], \n",
    "    index=[\"Accuracy\", \"Sqrt cell robustness\", \"Gauss robustness\", \"Cell&gauss robustness\", \"Log cell robustness\"]\n",
    ")"
   ]
  },
  {
   "cell_type": "code",
   "execution_count": 41,
   "metadata": {},
   "outputs": [
    {
     "data": {
      "text/html": [
       "<div>\n",
       "<style scoped>\n",
       "    .dataframe tbody tr th:only-of-type {\n",
       "        vertical-align: middle;\n",
       "    }\n",
       "\n",
       "    .dataframe tbody tr th {\n",
       "        vertical-align: top;\n",
       "    }\n",
       "\n",
       "    .dataframe thead th {\n",
       "        text-align: right;\n",
       "    }\n",
       "</style>\n",
       "<table border=\"1\" class=\"dataframe\">\n",
       "  <thead>\n",
       "    <tr style=\"text-align: right;\">\n",
       "      <th></th>\n",
       "      <th>Train</th>\n",
       "      <th>Test</th>\n",
       "    </tr>\n",
       "  </thead>\n",
       "  <tbody>\n",
       "    <tr>\n",
       "      <th>Accuracy</th>\n",
       "      <td>1.000</td>\n",
       "      <td>0.938</td>\n",
       "    </tr>\n",
       "    <tr>\n",
       "      <th>Sqrt cell robustness</th>\n",
       "      <td>0.481</td>\n",
       "      <td>0.423</td>\n",
       "    </tr>\n",
       "    <tr>\n",
       "      <th>Gauss robustness</th>\n",
       "      <td>0.619</td>\n",
       "      <td>0.544</td>\n",
       "    </tr>\n",
       "    <tr>\n",
       "      <th>Cell&amp;gauss robustness</th>\n",
       "      <td>0.385</td>\n",
       "      <td>0.343</td>\n",
       "    </tr>\n",
       "    <tr>\n",
       "      <th>Log cell robustness</th>\n",
       "      <td>0.828</td>\n",
       "      <td>0.682</td>\n",
       "    </tr>\n",
       "  </tbody>\n",
       "</table>\n",
       "</div>"
      ],
      "text/plain": [
       "                       Train   Test\n",
       "Accuracy               1.000  0.938\n",
       "Sqrt cell robustness   0.481  0.423\n",
       "Gauss robustness       0.619  0.544\n",
       "Cell&gauss robustness  0.385  0.343\n",
       "Log cell robustness    0.828  0.682"
      ]
     },
     "execution_count": 41,
     "metadata": {},
     "output_type": "execute_result"
    }
   ],
   "source": [
    "df"
   ]
  },
  {
   "cell_type": "code",
   "execution_count": 42,
   "metadata": {},
   "outputs": [
    {
     "data": {
      "text/plain": [
       "<matplotlib.axes._subplots.AxesSubplot at 0x28eafcb5b70>"
      ]
     },
     "execution_count": 42,
     "metadata": {},
     "output_type": "execute_result"
    },
    {
     "data": {
      "image/png": "[encoded data removed]",
      "text/plain": [
       "<Figure size 432x288 with 1 Axes>"
      ]
     },
     "metadata": {
      "needs_background": "light"
     },
     "output_type": "display_data"
    }
   ],
   "source": [
    "df.plot.bar()"
   ]
  },
  {
   "cell_type": "code",
   "execution_count": null,
   "metadata": {},
   "outputs": [
    {
     "name": "stdout",
     "output_type": "stream",
     "text": [
      "WARNING:tensorflow:From C:\\Users\\Andrei\\Anaconda3\\envs\\opencv-env\\lib\\site-packages\\tensorflow\\python\\ops\\resource_variable_ops.py:435: colocate_with (from tensorflow.python.framework.ops) is deprecated and will be removed in a future version.\n",
      "Instructions for updating:\n",
      "Colocations handled automatically by placer.\n",
      "WARNING:tensorflow:From C:\\Users\\Andrei\\Anaconda3\\envs\\opencv-env\\lib\\site-packages\\tensorflow\\python\\keras\\layers\\core.py:143: calling dropout (from tensorflow.python.ops.nn_ops) with keep_prob is deprecated and will be removed in a future version.\n",
      "Instructions for updating:\n",
      "Please use `rate` instead of `keep_prob`. Rate should be set to `rate = 1 - keep_prob`.\n",
      "WARNING:tensorflow:From C:\\Users\\Andrei\\Anaconda3\\envs\\opencv-env\\lib\\site-packages\\tensorflow\\python\\ops\\math_ops.py:3066: to_int32 (from tensorflow.python.ops.math_ops) is deprecated and will be removed in a future version.\n",
      "Instructions for updating:\n",
      "Use tf.cast instead.\n",
      "Epoch 1/250\n",
      "223/391 [================>.............] - ETA: 33:43 - loss: 23.6405 - acc: 0.1630"
     ]
    }
   ],
   "source": [
    "model = cifar10vgg(train=True)"
   ]
  },
  {
   "cell_type": "code",
   "execution_count": null,
   "metadata": {},
   "outputs": [],
   "source": []
  }
 ],
 "metadata": {
  "kernelspec": {
   "display_name": "Python 3",
   "language": "python",
   "name": "python3"
  },
  "language_info": {
   "codemirror_mode": {
    "name": "ipython",
    "version": 3
   },
   "file_extension": ".py",
   "mimetype": "text/x-python",
   "name": "python",
   "nbconvert_exporter": "python",
   "pygments_lexer": "ipython3",
   "version": "3.7.6"
  }
 },
 "nbformat": 4,
 "nbformat_minor": 4
}
