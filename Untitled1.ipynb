{
 "cells": [
  {
   "cell_type": "code",
   "execution_count": 1,
   "metadata": {},
   "outputs": [],
   "source": [
    "from mnistcnn import mnistcnn"
   ]
  },
  {
   "cell_type": "code",
   "execution_count": 3,
   "metadata": {},
   "outputs": [
    {
     "name": "stdout",
     "output_type": "stream",
     "text": [
      "Train on 60000 samples, validate on 10000 samples\n",
      "Epoch 1/10\n",
      "60000/60000 [==============================] - 20s 337us/sample - loss: 0.7369 - acc: 0.7477 - val_loss: 0.3113 - val_acc: 0.9319\n",
      "Epoch 2/10\n",
      "60000/60000 [==============================] - 19s 322us/sample - loss: 0.5216 - acc: 0.8277 - val_loss: 0.2129 - val_acc: 0.9626\n",
      "Epoch 3/10\n",
      "60000/60000 [==============================] - 20s 329us/sample - loss: 0.4538 - acc: 0.8595 - val_loss: 0.2126 - val_acc: 0.9593\n",
      "Epoch 4/10\n",
      "60000/60000 [==============================] - 21s 348us/sample - loss: 0.4126 - acc: 0.8778 - val_loss: 0.2696 - val_acc: 0.9404\n"
     ]
    }
   ],
   "source": [
    "model = mnistcnn(train = True, data_name=\"mnist\")"
   ]
  },
  {
   "cell_type": "code",
   "execution_count": null,
   "metadata": {},
   "outputs": [],
   "source": [
    "model.predict()"
   ]
  },
  {
   "cell_type": "code",
   "execution_count": 5,
   "metadata": {},
   "outputs": [],
   "source": [
    "from data_manager import load_data\n",
    "import numpy as np\n",
    "(x_train, y_train), (x_test, y_test) = load_data(\"mnist_robust\")"
   ]
  },
  {
   "cell_type": "code",
   "execution_count": 14,
   "metadata": {},
   "outputs": [
    {
     "data": {
      "text/plain": [
       "666"
      ]
     },
     "execution_count": 14,
     "metadata": {},
     "output_type": "execute_result"
    }
   ],
   "source": [
    "(np.argmax(model.predict(x_test), axis=1) == np.argmax(y_test, axis=1)).sum()"
   ]
  },
  {
   "cell_type": "code",
   "execution_count": 7,
   "metadata": {},
   "outputs": [
    {
     "data": {
      "text/plain": [
       "(array([5260., 2358., 5170., 5593., 4940., 4567., 5051., 6166., 1648.,\n",
       "        2014.]),\n",
       " array([0. , 0.9, 1.8, 2.7, 3.6, 4.5, 5.4, 6.3, 7.2, 8.1, 9. ]),\n",
       " <a list of 10 Patch objects>)"
      ]
     },
     "execution_count": 7,
     "metadata": {},
     "output_type": "execute_result"
    },
    {
     "data": {
      "image/png": "[encoded data removed]",
      "text/plain": [
       "<Figure size 432x288 with 1 Axes>"
      ]
     },
     "metadata": {
      "needs_background": "light"
     },
     "output_type": "display_data"
    }
   ],
   "source": [
    "import matplotlib.pyplot as plt\n",
    "plt.hist(np.argmax(y_train, axis=1))"
   ]
  },
  {
   "cell_type": "code",
   "execution_count": 9,
   "metadata": {},
   "outputs": [
    {
     "data": {
      "image/png": "[encoded data removed]",
      "text/plain": [
       "<Figure size 432x288 with 1 Axes>"
      ]
     },
     "metadata": {
      "needs_background": "light"
     },
     "output_type": "display_data"
    },
    {
     "name": "stdout",
     "output_type": "stream",
     "text": [
      "3\n"
     ]
    }
   ],
   "source": [
    "index = 1023\n",
    "plt.imshow(np.reshape(x_train[index],(28,28)))\n",
    "plt.show()\n",
    "print(np.argmax(y_train[index], axis = 0))"
   ]
  },
  {
   "cell_type": "code",
   "execution_count": 21,
   "metadata": {},
   "outputs": [
    {
     "name": "stdout",
     "output_type": "stream",
     "text": [
      "Train on 60000 samples, validate on 10000 samples\n",
      "Epoch 1/16\n",
      "60000/60000 [==============================] - 20s 329us/sample - loss: 0.4957 - acc: 0.8581 - val_loss: 0.2266 - val_acc: 0.9523\n",
      "Epoch 2/16\n",
      "60000/60000 [==============================] - 19s 309us/sample - loss: 0.3185 - acc: 0.9184 - val_loss: 0.1820 - val_acc: 0.9651\n",
      "Epoch 3/16\n",
      "60000/60000 [==============================] - 20s 327us/sample - loss: 0.2995 - acc: 0.9248 - val_loss: 0.2330 - val_acc: 0.9497\n",
      "Epoch 4/16\n",
      "60000/60000 [==============================] - 20s 329us/sample - loss: 0.2887 - acc: 0.9280 - val_loss: 0.1866 - val_acc: 0.9657\n",
      "Epoch 5/16\n",
      "60000/60000 [==============================] - 19s 325us/sample - loss: 0.2812 - acc: 0.9322 - val_loss: 0.1938 - val_acc: 0.9631\n",
      "Epoch 6/16\n",
      "60000/60000 [==============================] - 20s 331us/sample - loss: 0.2810 - acc: 0.9312 - val_loss: 0.2143 - val_acc: 0.9569\n",
      "Epoch 7/16\n",
      "60000/60000 [==============================] - 20s 340us/sample - loss: 0.2757 - acc: 0.9314 - val_loss: 0.1896 - val_acc: 0.9624\n",
      "Epoch 8/16\n",
      "60000/60000 [==============================] - 20s 335us/sample - loss: 0.2810 - acc: 0.9316 - val_loss: 0.1755 - val_acc: 0.9686\n",
      "Epoch 9/16\n",
      "60000/60000 [==============================] - 20s 335us/sample - loss: 0.2826 - acc: 0.9316 - val_loss: 0.1712 - val_acc: 0.9705\n",
      "Epoch 10/16\n",
      "60000/60000 [==============================] - 20s 327us/sample - loss: 0.2772 - acc: 0.9337 - val_loss: 0.2192 - val_acc: 0.9561\n",
      "Epoch 11/16\n",
      "60000/60000 [==============================] - 19s 315us/sample - loss: 0.2737 - acc: 0.9328 - val_loss: 0.1525 - val_acc: 0.9752\n",
      "Epoch 12/16\n",
      "54912/60000 [==========================>...] - ETA: 1s - loss: 0.2696 - acc: 0.9358"
     ]
    }
   ],
   "source": [
    "import tensorflow as tf\n",
    "x_test = tf.expand_dims(x_test, 3)"
   ]
  },
  {
   "cell_type": "code",
   "execution_count": 25,
   "metadata": {},
   "outputs": [],
   "source": [
    "test = (np.argmax(model.predict(x_train), axis =1 ) == np.argmax(y_train, axis=1))"
   ]
  },
  {
   "cell_type": "code",
   "execution_count": 26,
   "metadata": {},
   "outputs": [
    {
     "data": {
      "text/plain": [
       "TensorShape([10000, 28, 28, 1])"
      ]
     },
     "execution_count": 26,
     "metadata": {},
     "output_type": "execute_result"
    }
   ],
   "source": [
    "np.shape(x_test)"
   ]
  },
  {
   "cell_type": "code",
   "execution_count": 27,
   "metadata": {},
   "outputs": [
    {
     "data": {
      "text/plain": [
       "42687"
      ]
     },
     "execution_count": 27,
     "metadata": {},
     "output_type": "execute_result"
    }
   ],
   "source": [
    "test.sum()"
   ]
  },
  {
   "cell_type": "code",
   "execution_count": 3,
   "metadata": {},
   "outputs": [],
   "source": [
    "import tensorflow.keras\n",
    "import tensorflow as tf\n",
    "from tensorflow.keras.datasets import mnist\n",
    "from tensorflow.keras.preprocessing.image import ImageDataGenerator\n",
    "from tensorflow.keras.models import Sequential\n",
    "from tensorflow.keras.layers import Dense, Dropout, Activation, Flatten\n",
    "from tensorflow.keras.layers import Conv2D, MaxPooling2D, BatchNormalization\n",
    "from tensorflow.keras import optimizers\n",
    "import numpy as np\n",
    "from tensorflow.keras import backend as K\n",
    "from tensorflow.keras import regularizers"
   ]
  },
  {
   "cell_type": "code",
   "execution_count": 4,
   "metadata": {},
   "outputs": [],
   "source": [
    "(x_train, y_train), (x_test, y_test) = mnist.load_data()"
   ]
  },
  {
   "cell_type": "code",
   "execution_count": 5,
   "metadata": {},
   "outputs": [
    {
     "data": {
      "text/plain": [
       "60000"
      ]
     },
     "execution_count": 5,
     "metadata": {},
     "output_type": "execute_result"
    }
   ],
   "source": [
    "len(y_train)"
   ]
  },
  {
   "cell_type": "code",
   "execution_count": 6,
   "metadata": {},
   "outputs": [],
   "source": [
    "model = Sequential()\n",
    "weight_decay = 0.0005\n",
    "x_shape = [28,28,1]\n",
    "num_classes = 10\n",
    "batch_size = 128\n",
    "maxepoches = 1\n",
    "learning_rate = 0.1\n",
    "lr_decay = 1e-6\n",
    "lr_drop = 20\n",
    "\n",
    "model.add(Conv2D(8, (3, 3), padding='same',\n",
    "                 input_shape=x_shape,kernel_regularizer=regularizers.l2(weight_decay)))\n",
    "model.add(Activation('relu'))\n",
    "model.add(BatchNormalization())\n",
    "model.add(Dropout(0.3))\n",
    "\n",
    "model.add(Conv2D(8, (3, 3), padding='same',kernel_regularizer=regularizers.l2(weight_decay)))\n",
    "model.add(Activation('relu'))\n",
    "model.add(BatchNormalization())\n",
    "\n",
    "model.add(MaxPooling2D(pool_size=(2, 2)))\n",
    "\n",
    "model.add(Flatten())\n",
    "model.add(Dense(16,kernel_regularizer=regularizers.l2(weight_decay)))\n",
    "model.add(Activation('relu'))\n",
    "model.add(BatchNormalization())\n",
    "\n",
    "model.add(Dropout(0.5))\n",
    "model.add(Dense(num_classes))\n",
    "model.add(Activation('softmax'))"
   ]
  },
  {
   "cell_type": "code",
   "execution_count": 7,
   "metadata": {},
   "outputs": [],
   "source": [
    "(x_train, y_train), (x_test, y_test) = mnist.load_data()\n",
    "x_train = x_train.astype('float32')\n",
    "x_test = x_test.astype('float32')"
   ]
  },
  {
   "cell_type": "code",
   "execution_count": 8,
   "metadata": {},
   "outputs": [],
   "source": [
    "y_train = tensorflow.keras.utils.to_categorical(y_train, num_classes)\n",
    "y_test = tensorflow.keras.utils.to_categorical(y_test, num_classes)"
   ]
  },
  {
   "cell_type": "code",
   "execution_count": 9,
   "metadata": {},
   "outputs": [],
   "source": [
    "mean = np.mean(x_train,axis=(0, 1, 2))\n",
    "std = np.std(x_train, axis=(0, 1, 2))\n",
    "x_train = (x_train-mean)/(std+1e-7)\n",
    "x_test = (x_test-mean)/(std+1e-7)\n",
    "x_train = tf.expand_dims(x_train, 3)\n",
    "x_test = tf.expand_dims(x_test, 3)"
   ]
  },
  {
   "cell_type": "code",
   "execution_count": 10,
   "metadata": {},
   "outputs": [],
   "source": [
    "sgd = optimizers.SGD(lr=learning_rate, decay=lr_decay, momentum=0.9, nesterov=True)"
   ]
  },
  {
   "cell_type": "code",
   "execution_count": 11,
   "metadata": {},
   "outputs": [],
   "source": [
    "model.compile(loss='categorical_crossentropy', optimizer=sgd,metrics=['acc'])"
   ]
  },
  {
   "cell_type": "code",
   "execution_count": 12,
   "metadata": {},
   "outputs": [
    {
     "name": "stdout",
     "output_type": "stream",
     "text": [
      "Train on 60000 samples, validate on 10000 samples\n",
      "60000/60000 [==============================] - 72s 1ms/sample - loss: 0.6430 - acc: 0.8000 - val_loss: 0.2104 - val_acc: 0.9572\n"
     ]
    }
   ],
   "source": [
    "historytemp = model.fit(x_train, \n",
    "                        y_train, \n",
    "                        batch_size=batch_size,\n",
    "#                         steps_per_epoch = np.shape(x_train)[0] // batch_size,\n",
    "                        epochs=maxepoches,\n",
    "                        validation_data=(x_test, y_test),\n",
    "#                                 callbacks=[reduce_lr],\n",
    "                        verbose=1)"
   ]
  },
  {
   "cell_type": "code",
   "execution_count": 13,
   "metadata": {},
   "outputs": [
    {
     "data": {
      "text/plain": [
       "9572"
      ]
     },
     "execution_count": 13,
     "metadata": {},
     "output_type": "execute_result"
    }
   ],
   "source": [
    "(np.argmax(model.predict(x_test), axis = 1) == np.argmax(y_test, axis =1)).sum()"
   ]
  },
  {
   "cell_type": "code",
   "execution_count": 15,
   "metadata": {},
   "outputs": [
    {
     "data": {
      "text/plain": [
       "<tensorflow.python.keras.engine.sequential.Sequential at 0x7fefc8b48450>"
      ]
     },
     "execution_count": 15,
     "metadata": {},
     "output_type": "execute_result"
    }
   ],
   "source": [
    "model"
   ]
  },
  {
   "cell_type": "code",
   "execution_count": null,
   "metadata": {},
   "outputs": [],
   "source": []
  }
 ],
 "metadata": {
  "kernelspec": {
   "display_name": "Python 3",
   "language": "python",
   "name": "python3"
  },
  "language_info": {
   "codemirror_mode": {
    "name": "ipython",
    "version": 3
   },
   "file_extension": ".py",
   "mimetype": "text/x-python",
   "name": "python",
   "nbconvert_exporter": "python",
   "pygments_lexer": "ipython3",
   "version": "3.7.6"
  }
 },
 "nbformat": 4,
 "nbformat_minor": 4
}
