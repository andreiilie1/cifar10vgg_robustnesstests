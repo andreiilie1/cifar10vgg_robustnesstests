{
 "cells": [
  {
   "cell_type": "code",
   "execution_count": 1,
   "metadata": {},
   "outputs": [],
   "source": [
    "from mnistcnn import mnistcnn"
   ]
  },
  {
   "cell_type": "code",
   "execution_count": null,
   "metadata": {},
   "outputs": [
    {
     "name": "stdout",
     "output_type": "stream",
     "text": [
      "Train on 60000 samples, validate on 10000 samples\n",
      "Epoch 1/16\n",
      "60000/60000 [==============================] - 20s 329us/sample - loss: 0.4957 - acc: 0.8581 - val_loss: 0.2266 - val_acc: 0.9523\n",
      "Epoch 2/16\n",
      "60000/60000 [==============================] - 19s 309us/sample - loss: 0.3185 - acc: 0.9184 - val_loss: 0.1820 - val_acc: 0.9651\n",
      "Epoch 3/16\n",
      "60000/60000 [==============================] - 20s 327us/sample - loss: 0.2995 - acc: 0.9248 - val_loss: 0.2330 - val_acc: 0.9497\n",
      "Epoch 4/16\n",
      "60000/60000 [==============================] - 20s 329us/sample - loss: 0.2887 - acc: 0.9280 - val_loss: 0.1866 - val_acc: 0.9657\n",
      "Epoch 5/16\n",
      "60000/60000 [==============================] - 19s 325us/sample - loss: 0.2812 - acc: 0.9322 - val_loss: 0.1938 - val_acc: 0.9631\n",
      "Epoch 6/16\n",
      "60000/60000 [==============================] - 20s 331us/sample - loss: 0.2810 - acc: 0.9312 - val_loss: 0.2143 - val_acc: 0.9569\n",
      "Epoch 7/16\n",
      "60000/60000 [==============================] - 20s 340us/sample - loss: 0.2757 - acc: 0.9314 - val_loss: 0.1896 - val_acc: 0.9624\n",
      "Epoch 8/16\n",
      "60000/60000 [==============================] - 20s 335us/sample - loss: 0.2810 - acc: 0.9316 - val_loss: 0.1755 - val_acc: 0.9686\n",
      "Epoch 9/16\n",
      "60000/60000 [==============================] - 20s 335us/sample - loss: 0.2826 - acc: 0.9316 - val_loss: 0.1712 - val_acc: 0.9705\n",
      "Epoch 10/16\n",
      "60000/60000 [==============================] - 20s 327us/sample - loss: 0.2772 - acc: 0.9337 - val_loss: 0.2192 - val_acc: 0.9561\n",
      "Epoch 11/16\n",
      "60000/60000 [==============================] - 19s 315us/sample - loss: 0.2737 - acc: 0.9328 - val_loss: 0.1525 - val_acc: 0.9752\n",
      "Epoch 12/16\n",
      "54912/60000 [==========================>...] - ETA: 1s - loss: 0.2696 - acc: 0.9358"
     ]
    }
   ],
   "source": [
    "model = mnistcnn(train = True)"
   ]
  },
  {
   "cell_type": "code",
   "execution_count": 2,
   "metadata": {},
   "outputs": [
    {
     "name": "stdout",
     "output_type": "stream",
     "text": [
      "Train on 60000 samples, validate on 10000 samples\n",
      "Epoch 1/16\n",
      "60000/60000 [==============================] - 20s 332us/sample - loss: 0.4997 - acc: 0.8564 - val_loss: 0.2095 - val_acc: 0.9571\n",
      "Epoch 2/16\n",
      "60000/60000 [==============================] - 19s 317us/sample - loss: 0.3454 - acc: 0.9096 - val_loss: 0.1450 - val_acc: 0.9773\n",
      "Epoch 3/16\n",
      "60000/60000 [==============================] - 19s 324us/sample - loss: 0.3264 - acc: 0.9129 - val_loss: 0.1596 - val_acc: 0.9736\n",
      "Epoch 4/16\n",
      "60000/60000 [==============================] - 20s 327us/sample - loss: 0.3129 - acc: 0.9187 - val_loss: 0.1682 - val_acc: 0.9698\n",
      "Epoch 5/16\n",
      "60000/60000 [==============================] - 142s 2ms/sample - loss: 0.3114 - acc: 0.9190 - val_loss: 0.1830 - val_acc: 0.9652\n",
      "Epoch 6/16\n",
      "60000/60000 [==============================] - 1999s 33ms/sample - loss: 0.3094 - acc: 0.9208 - val_loss: 0.2122 - val_acc: 0.9557\n",
      "Epoch 7/16\n",
      "60000/60000 [==============================] - 2389s 40ms/sample - loss: 0.3074 - acc: 0.9212 - val_loss: 0.1387 - val_acc: 0.9801\n",
      "Epoch 8/16\n",
      "60000/60000 [==============================] - 3247s 54ms/sample - loss: 0.3060 - acc: 0.9218 - val_loss: 0.1508 - val_acc: 0.9764\n",
      "Epoch 9/16\n",
      "60000/60000 [==============================] - 1923s 32ms/sample - loss: 0.3004 - acc: 0.9231 - val_loss: 0.1982 - val_acc: 0.9630\n",
      "Epoch 10/16\n",
      "60000/60000 [==============================] - 48s 796us/sample - loss: 0.2977 - acc: 0.9237 - val_loss: 0.1453 - val_acc: 0.9783\n",
      "Epoch 11/16\n",
      "60000/60000 [==============================] - 3026s 50ms/sample - loss: 0.2972 - acc: 0.9244 - val_loss: 0.1661 - val_acc: 0.9705\n",
      "Epoch 12/16\n",
      "60000/60000 [==============================] - 1965s 33ms/sample - loss: 0.2974 - acc: 0.9260 - val_loss: 0.1694 - val_acc: 0.9717\n",
      "Epoch 13/16\n",
      "60000/60000 [==============================] - 3240s 54ms/sample - loss: 0.2960 - acc: 0.9255 - val_loss: 0.2024 - val_acc: 0.9620\n",
      "Epoch 14/16\n",
      "60000/60000 [==============================] - 2401s 40ms/sample - loss: 0.2967 - acc: 0.9258 - val_loss: 0.1673 - val_acc: 0.9703\n",
      "Epoch 15/16\n",
      "60000/60000 [==============================] - 81s 1ms/sample - loss: 0.2919 - acc: 0.9282 - val_loss: 0.1577 - val_acc: 0.9752\n",
      "Epoch 16/16\n",
      "60000/60000 [==============================] - 77s 1ms/sample - loss: 0.2929 - acc: 0.9283 - val_loss: 0.1383 - val_acc: 0.9805\n"
     ]
    }
   ],
   "source": [
    "model = mnistcnn()"
   ]
  },
  {
   "cell_type": "code",
   "execution_count": 3,
   "metadata": {},
   "outputs": [],
   "source": [
    "import tensorflow.keras\n",
    "import tensorflow as tf\n",
    "from tensorflow.keras.datasets import mnist\n",
    "from tensorflow.keras.preprocessing.image import ImageDataGenerator\n",
    "from tensorflow.keras.models import Sequential\n",
    "from tensorflow.keras.layers import Dense, Dropout, Activation, Flatten\n",
    "from tensorflow.keras.layers import Conv2D, MaxPooling2D, BatchNormalization\n",
    "from tensorflow.keras import optimizers\n",
    "import numpy as np\n",
    "from tensorflow.keras import backend as K\n",
    "from tensorflow.keras import regularizers"
   ]
  },
  {
   "cell_type": "code",
   "execution_count": 4,
   "metadata": {},
   "outputs": [],
   "source": [
    "(x_train, y_train), (x_test, y_test) = mnist.load_data()"
   ]
  },
  {
   "cell_type": "code",
   "execution_count": 5,
   "metadata": {},
   "outputs": [
    {
     "data": {
      "text/plain": [
       "60000"
      ]
     },
     "execution_count": 5,
     "metadata": {},
     "output_type": "execute_result"
    }
   ],
   "source": [
    "len(y_train)"
   ]
  },
  {
   "cell_type": "code",
   "execution_count": 6,
   "metadata": {},
   "outputs": [],
   "source": [
    "model = Sequential()\n",
    "weight_decay = 0.0005\n",
    "x_shape = [28,28,1]\n",
    "num_classes = 10\n",
    "batch_size = 128\n",
    "maxepoches = 1\n",
    "learning_rate = 0.1\n",
    "lr_decay = 1e-6\n",
    "lr_drop = 20\n",
    "\n",
    "model.add(Conv2D(8, (3, 3), padding='same',\n",
    "                 input_shape=x_shape,kernel_regularizer=regularizers.l2(weight_decay)))\n",
    "model.add(Activation('relu'))\n",
    "model.add(BatchNormalization())\n",
    "model.add(Dropout(0.3))\n",
    "\n",
    "model.add(Conv2D(8, (3, 3), padding='same',kernel_regularizer=regularizers.l2(weight_decay)))\n",
    "model.add(Activation('relu'))\n",
    "model.add(BatchNormalization())\n",
    "\n",
    "model.add(MaxPooling2D(pool_size=(2, 2)))\n",
    "\n",
    "model.add(Flatten())\n",
    "model.add(Dense(16,kernel_regularizer=regularizers.l2(weight_decay)))\n",
    "model.add(Activation('relu'))\n",
    "model.add(BatchNormalization())\n",
    "\n",
    "model.add(Dropout(0.5))\n",
    "model.add(Dense(num_classes))\n",
    "model.add(Activation('softmax'))"
   ]
  },
  {
   "cell_type": "code",
   "execution_count": 7,
   "metadata": {},
   "outputs": [],
   "source": [
    "(x_train, y_train), (x_test, y_test) = mnist.load_data()\n",
    "x_train = x_train.astype('float32')\n",
    "x_test = x_test.astype('float32')"
   ]
  },
  {
   "cell_type": "code",
   "execution_count": 8,
   "metadata": {},
   "outputs": [],
   "source": [
    "y_train = tensorflow.keras.utils.to_categorical(y_train, num_classes)\n",
    "y_test = tensorflow.keras.utils.to_categorical(y_test, num_classes)"
   ]
  },
  {
   "cell_type": "code",
   "execution_count": 9,
   "metadata": {},
   "outputs": [],
   "source": [
    "mean = np.mean(x_train,axis=(0, 1, 2))\n",
    "std = np.std(x_train, axis=(0, 1, 2))\n",
    "x_train = (x_train-mean)/(std+1e-7)\n",
    "x_test = (x_test-mean)/(std+1e-7)\n",
    "x_train = tf.expand_dims(x_train, 3)\n",
    "x_test = tf.expand_dims(x_test, 3)"
   ]
  },
  {
   "cell_type": "code",
   "execution_count": 10,
   "metadata": {},
   "outputs": [],
   "source": [
    "sgd = optimizers.SGD(lr=learning_rate, decay=lr_decay, momentum=0.9, nesterov=True)"
   ]
  },
  {
   "cell_type": "code",
   "execution_count": 11,
   "metadata": {},
   "outputs": [],
   "source": [
    "model.compile(loss='categorical_crossentropy', optimizer=sgd,metrics=['acc'])"
   ]
  },
  {
   "cell_type": "code",
   "execution_count": 12,
   "metadata": {},
   "outputs": [
    {
     "name": "stdout",
     "output_type": "stream",
     "text": [
      "Train on 60000 samples, validate on 10000 samples\n",
      "60000/60000 [==============================] - 72s 1ms/sample - loss: 0.6430 - acc: 0.8000 - val_loss: 0.2104 - val_acc: 0.9572\n"
     ]
    }
   ],
   "source": [
    "historytemp = model.fit(x_train, \n",
    "                        y_train, \n",
    "                        batch_size=batch_size,\n",
    "#                         steps_per_epoch = np.shape(x_train)[0] // batch_size,\n",
    "                        epochs=maxepoches,\n",
    "                        validation_data=(x_test, y_test),\n",
    "#                                 callbacks=[reduce_lr],\n",
    "                        verbose=1)"
   ]
  },
  {
   "cell_type": "code",
   "execution_count": 13,
   "metadata": {},
   "outputs": [
    {
     "data": {
      "text/plain": [
       "9572"
      ]
     },
     "execution_count": 13,
     "metadata": {},
     "output_type": "execute_result"
    }
   ],
   "source": [
    "(np.argmax(model.predict(x_test), axis = 1) == np.argmax(y_test, axis =1)).sum()"
   ]
  },
  {
   "cell_type": "code",
   "execution_count": 15,
   "metadata": {},
   "outputs": [
    {
     "data": {
      "text/plain": [
       "<tensorflow.python.keras.engine.sequential.Sequential at 0x7fefc8b48450>"
      ]
     },
     "execution_count": 15,
     "metadata": {},
     "output_type": "execute_result"
    }
   ],
   "source": [
    "model"
   ]
  },
  {
   "cell_type": "code",
   "execution_count": null,
   "metadata": {},
   "outputs": [],
   "source": []
  }
 ],
 "metadata": {
  "kernelspec": {
   "display_name": "Python 3",
   "language": "python",
   "name": "python3"
  },
  "language_info": {
   "codemirror_mode": {
    "name": "ipython",
    "version": 3
   },
   "file_extension": ".py",
   "mimetype": "text/x-python",
   "name": "python",
   "nbconvert_exporter": "python",
   "pygments_lexer": "ipython3",
   "version": "3.7.6"
  }
 },
 "nbformat": 4,
 "nbformat_minor": 4
}
