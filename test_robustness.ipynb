{
 "cells": [
  {
   "cell_type": "code",
   "execution_count": 1,
   "metadata": {
    "collapsed": true,
    "jupyter": {
     "outputs_hidden": true
    }
   },
   "outputs": [
    {
     "name": "stderr",
     "output_type": "stream",
     "text": [
      "C:\\Users\\Andrei\\Anaconda3\\envs\\opencv-env\\lib\\site-packages\\tensorflow\\python\\framework\\dtypes.py:526: FutureWarning: Passing (type, 1) or '1type' as a synonym of type is deprecated; in a future version of numpy, it will be understood as (type, (1,)) / '(1,)type'.\n",
      "  _np_qint8 = np.dtype([(\"qint8\", np.int8, 1)])\n",
      "C:\\Users\\Andrei\\Anaconda3\\envs\\opencv-env\\lib\\site-packages\\tensorflow\\python\\framework\\dtypes.py:527: FutureWarning: Passing (type, 1) or '1type' as a synonym of type is deprecated; in a future version of numpy, it will be understood as (type, (1,)) / '(1,)type'.\n",
      "  _np_quint8 = np.dtype([(\"quint8\", np.uint8, 1)])\n",
      "C:\\Users\\Andrei\\Anaconda3\\envs\\opencv-env\\lib\\site-packages\\tensorflow\\python\\framework\\dtypes.py:528: FutureWarning: Passing (type, 1) or '1type' as a synonym of type is deprecated; in a future version of numpy, it will be understood as (type, (1,)) / '(1,)type'.\n",
      "  _np_qint16 = np.dtype([(\"qint16\", np.int16, 1)])\n",
      "C:\\Users\\Andrei\\Anaconda3\\envs\\opencv-env\\lib\\site-packages\\tensorflow\\python\\framework\\dtypes.py:529: FutureWarning: Passing (type, 1) or '1type' as a synonym of type is deprecated; in a future version of numpy, it will be understood as (type, (1,)) / '(1,)type'.\n",
      "  _np_quint16 = np.dtype([(\"quint16\", np.uint16, 1)])\n",
      "C:\\Users\\Andrei\\Anaconda3\\envs\\opencv-env\\lib\\site-packages\\tensorflow\\python\\framework\\dtypes.py:530: FutureWarning: Passing (type, 1) or '1type' as a synonym of type is deprecated; in a future version of numpy, it will be understood as (type, (1,)) / '(1,)type'.\n",
      "  _np_qint32 = np.dtype([(\"qint32\", np.int32, 1)])\n",
      "C:\\Users\\Andrei\\Anaconda3\\envs\\opencv-env\\lib\\site-packages\\tensorflow\\python\\framework\\dtypes.py:535: FutureWarning: Passing (type, 1) or '1type' as a synonym of type is deprecated; in a future version of numpy, it will be understood as (type, (1,)) / '(1,)type'.\n",
      "  np_resource = np.dtype([(\"resource\", np.ubyte, 1)])\n"
     ]
    }
   ],
   "source": [
    "from __future__ import print_function\n",
    "\n",
    "import tensorflow.keras\n",
    "from tensorflow.keras.datasets import cifar10\n",
    "from tensorflow.keras.preprocessing.image import ImageDataGenerator\n",
    "from tensorflow.keras.models import Sequential\n",
    "from tensorflow.keras.layers import Dense, Dropout, Activation, Flatten\n",
    "from tensorflow.keras.layers import Conv2D, MaxPooling2D, BatchNormalization\n",
    "from tensorflow.keras import optimizers\n",
    "from tensorflow.keras import backend as K\n",
    "from tensorflow.keras import regularizers\n",
    "\n",
    "import numpy as np\n",
    "import matplotlib.pyplot as plt\n",
    "import json\n",
    "\n",
    "from cifar10vgg import cifar10vgg\n",
    "from noise import noisy, check_noise_robustness_multiple_rounds\n",
    "from data_manager import load_data\n",
    "\n",
    "from IPython.display import clear_output\n",
    "\n",
    "%config Completer.use_jedi = False"
   ]
  },
  {
   "cell_type": "code",
   "execution_count": 105,
   "metadata": {},
   "outputs": [],
   "source": [
    "(x_train, y_train), (x_test, y_test) = load_data(\"cifar10\")        "
   ]
  },
  {
   "cell_type": "code",
   "execution_count": 2,
   "metadata": {},
   "outputs": [
    {
     "name": "stdout",
     "output_type": "stream",
     "text": [
      "WARNING:tensorflow:From C:\\Users\\Andrei\\Anaconda3\\envs\\opencv-env\\lib\\site-packages\\tensorflow\\python\\ops\\resource_variable_ops.py:435: colocate_with (from tensorflow.python.framework.ops) is deprecated and will be removed in a future version.\n",
      "Instructions for updating:\n",
      "Colocations handled automatically by placer.\n",
      "WARNING:tensorflow:From C:\\Users\\Andrei\\Anaconda3\\envs\\opencv-env\\lib\\site-packages\\tensorflow\\python\\keras\\layers\\core.py:143: calling dropout (from tensorflow.python.ops.nn_ops) with keep_prob is deprecated and will be removed in a future version.\n",
      "Instructions for updating:\n",
      "Please use `rate` instead of `keep_prob`. Rate should be set to `rate = 1 - keep_prob`.\n",
      "the validation 0/1 loss is:  0.0641\n"
     ]
    }
   ],
   "source": [
    "model = cifar10vgg(train = False)\n",
    "\n",
    "predicted_x = model.predict(x_test)\n",
    "residuals = np.argmax(predicted_x,1)!=np.argmax(y_test,1)\n",
    "\n",
    "loss = sum(residuals)/len(residuals)\n",
    "print(\"the validation 0/1 loss is: \",loss)"
   ]
  },
  {
   "cell_type": "code",
   "execution_count": 3,
   "metadata": {},
   "outputs": [
    {
     "name": "stdout",
     "output_type": "stream",
     "text": [
      "Top-1 accuracy: 0.9359\n"
     ]
    }
   ],
   "source": [
    "residuals = np.argmax(predicted_x,1)==np.argmax(y_test,1)\n",
    "acc = sum(residuals)/len(residuals)\n",
    "print(\"Top-1 accuracy:\", acc)"
   ]
  },
  {
   "cell_type": "code",
   "execution_count": 36,
   "metadata": {
    "collapsed": true,
    "jupyter": {
     "outputs_hidden": true,
     "source_hidden": true
    }
   },
   "outputs": [
    {
     "data": {
      "text/plain": [
       "1679"
      ]
     },
     "execution_count": 36,
     "metadata": {},
     "output_type": "execute_result"
    },
    {
     "data": {
      "image/png": "[encoded data removed]",
      "text/plain": [
       "<Figure size 86.4x86.4 with 1 Axes>"
      ]
     },
     "metadata": {
      "needs_background": "light"
     },
     "output_type": "display_data"
    }
   ],
   "source": [
    "i = 6\n",
    "img = x_test[i]\n",
    "np.shape(img)\n",
    "plt.figure(figsize=(1.2,1.2))\n",
    "plt.imshow(img/255)\n",
    "np.argmax(model.predict(np.array([img])))\n",
    "np.argmax(y_test[i])"
   ]
  },
  {
   "cell_type": "code",
   "execution_count": 104,
   "metadata": {},
   "outputs": [],
   "source": [
    "sample_x = np.copy(x_test)\n",
    "sample_y = np.copy(y_test)"
   ]
  },
  {
   "cell_type": "code",
   "execution_count": 15,
   "metadata": {},
   "outputs": [
    {
     "name": "stdout",
     "output_type": "stream",
     "text": [
      "Step  19\n"
     ]
    }
   ],
   "source": [
    "agreements, saved_noisy_imgs = check_noise_robustness_multiple_rounds(model, sample_x, sample_y, 20)"
   ]
  },
  {
   "cell_type": "code",
   "execution_count": 49,
   "metadata": {},
   "outputs": [
    {
     "data": {
      "image/png": "[encoded data removed]",
      "text/plain": [
       "<Figure size 144x144 with 1 Axes>"
      ]
     },
     "metadata": {
      "needs_background": "light"
     },
     "output_type": "display_data"
    },
    {
     "data": {
      "image/png": "[encoded data removed]",
      "text/plain": [
       "<Figure size 144x144 with 1 Axes>"
      ]
     },
     "metadata": {
      "needs_background": "light"
     },
     "output_type": "display_data"
    }
   ],
   "source": [
    "i = 20\n",
    "plt.figure(figsize=(2,2))\n",
    "\n",
    "plt.imshow(saved_noisy_imgs[i]/255)\n",
    "plt.show()\n",
    "plt.figure(figsize=(2,2))\n",
    "\n",
    "plt.imshow(x_test[i]/255)\n",
    "plt.show()"
   ]
  },
  {
   "cell_type": "code",
   "execution_count": 18,
   "metadata": {},
   "outputs": [
    {
     "data": {
      "text/plain": [
       "0.4747"
      ]
     },
     "execution_count": 18,
     "metadata": {},
     "output_type": "execute_result"
    }
   ],
   "source": [
    "agreements.sum() / len(sample_x)"
   ]
  },
  {
   "cell_type": "code",
   "execution_count": 128,
   "metadata": {},
   "outputs": [
    {
     "data": {
      "image/png": "[encoded data removed]",
      "text/plain": [
       "<Figure size 432x288 with 1 Axes>"
      ]
     },
     "metadata": {
      "needs_background": "light"
     },
     "output_type": "display_data"
    },
    {
     "data": {
      "image/png": "[encoded data removed]",
      "text/plain": [
       "<Figure size 432x288 with 1 Axes>"
      ]
     },
     "metadata": {
      "needs_background": "light"
     },
     "output_type": "display_data"
    }
   ],
   "source": [
    "image = np.copy(x_test[1])\n",
    "row,col,ch= image.shape\n",
    "plt.imshow(image/255)\n",
    "plt.show()\n",
    "cells_count = 5\n",
    "for i in range(cells_count):\n",
    "    cell_x = np.random.randint(row)\n",
    "    cell_y = np.random.randint(col)\n",
    "    for channel in range(ch):\n",
    "        image[cell_x][cell_y][channel] = np.random.randint(255)\n",
    "plt.imshow(image/255)\n",
    "plt.show()"
   ]
  },
  {
   "cell_type": "code",
   "execution_count": 126,
   "metadata": {},
   "outputs": [
    {
     "ename": "NameError",
     "evalue": "name 'noisy_imgs' is not defined",
     "output_type": "error",
     "traceback": [
      "\u001b[1;31m---------------------------------------------------------------------------\u001b[0m",
      "\u001b[1;31mNameError\u001b[0m                                 Traceback (most recent call last)",
      "\u001b[1;32m<ipython-input-126-1c268d90c5ba>\u001b[0m in \u001b[0;36m<module>\u001b[1;34m\u001b[0m\n\u001b[1;32m----> 1\u001b[1;33m \u001b[0mnoisy_pred\u001b[0m \u001b[1;33m=\u001b[0m \u001b[0mmodel\u001b[0m\u001b[1;33m.\u001b[0m\u001b[0mpredict\u001b[0m\u001b[1;33m(\u001b[0m\u001b[0mnp\u001b[0m\u001b[1;33m.\u001b[0m\u001b[0marray\u001b[0m\u001b[1;33m(\u001b[0m\u001b[0mnoisy_imgs\u001b[0m\u001b[1;33m)\u001b[0m\u001b[1;33m)\u001b[0m\u001b[1;33m\u001b[0m\u001b[1;33m\u001b[0m\u001b[0m\n\u001b[0m",
      "\u001b[1;31mNameError\u001b[0m: name 'noisy_imgs' is not defined"
     ]
    }
   ],
   "source": [
    "noisy_pred = model.predict(np.array(noisy_imgs))"
   ]
  },
  {
   "cell_type": "code",
   "execution_count": null,
   "metadata": {},
   "outputs": [],
   "source": [
    "noisy_labels = np.argmax(noisy_pred, axis=1)"
   ]
  },
  {
   "cell_type": "code",
   "execution_count": null,
   "metadata": {},
   "outputs": [],
   "source": [
    "correct_labels = np.argmax(y_test, axis = 1)"
   ]
  },
  {
   "cell_type": "code",
   "execution_count": null,
   "metadata": {},
   "outputs": [],
   "source": [
    "(noisy_labels == correct_labels).sum() / len(x_test)"
   ]
  },
  {
   "cell_type": "code",
   "execution_count": null,
   "metadata": {},
   "outputs": [],
   "source": [
    "count = 0\n",
    "count_correct = 0\n",
    "samples = 5\n",
    "K = len(x_test)\n",
    "# K = 2000\n",
    "noisy_imgs = []\n",
    "correct_labels = []\n",
    "for i in range(K):\n",
    "    for j in range(samples):\n",
    "#         i = 6\n",
    "        img = x_test[i]\n",
    "        np.shape(img)\n",
    "        # plt.imshow(img/255)\n",
    "        model_pred = np.argmax(model.predict(np.array([img])))\n",
    "        correct_label = np.argmax(y_test[i])\n",
    "        if(model_pred == correct_label):\n",
    "            count_correct = count_correct + 1\n",
    "        img_noise = noisy(img)\n",
    "#         noisy_pred = np.argmax(model.predict(np.array([img_noise])))\n",
    "        correct_labels.append(correct_label)\n",
    "        noisy_imgs.append(img_noise)\n",
    "#         if(model_pred == correct_label and noisy_pred != correct_label):\n",
    "#             if(i %50 == 0):\n",
    "#                 print(\"correct class: \", correct_label)\n",
    "#                 print(\"predicted noisy class: \", noisy_pred)\n",
    "#                 print(\"correct class model probability: \", model.predict(np.array([img]))[0][correct_label])\n",
    "#                 print(\"correct class noisy model probability: \", model.predict(np.array([img_noise]))[0][correct_label])\n",
    "#                 plt.figure(figsize=(1.2,1.2))\n",
    "#                 plt.imshow(img_noise/255)\n",
    "#                 plt.show()\n",
    "#             count = count + 1\n",
    "#             break\n",
    "print(count)"
   ]
  },
  {
   "cell_type": "code",
   "execution_count": null,
   "metadata": {},
   "outputs": [],
   "source": [
    "np.shape(noisy_imgs)\n",
    "predicted_x = model.predict(np.array(noisy_imgs))\n",
    "correct_predictions = np.argmax(predicted_x,1)==correct_labels"
   ]
  },
  {
   "cell_type": "code",
   "execution_count": null,
   "metadata": {},
   "outputs": [],
   "source": [
    "residuals"
   ]
  },
  {
   "cell_type": "code",
   "execution_count": null,
   "metadata": {},
   "outputs": [],
   "source": [
    "list_objects = []\n",
    "count_wrong = 0\n",
    "for x in range(K):\n",
    "    wrong = False\n",
    "    for i in range(samples):\n",
    "        index = x * samples + i\n",
    "        if(correct_predictions[index] == False):\n",
    "            if(residuals[x] == True):\n",
    "                obj = {}\n",
    "                obj[\"noisy_img\"] = noisy_imgs[index].tolist()\n",
    "                obj[\"img\"] = x_test[x].tolist()\n",
    "                obj[\"noisy_pred\"] = predicted_x[x].tolist()\n",
    "                obj[\"pred\"] = int(correct_labels[x])\n",
    "                list_objects.append(obj)\n",
    "            wrong = True\n",
    "            break\n",
    "    if wrong:\n",
    "        count_wrong += 1"
   ]
  },
  {
   "cell_type": "code",
   "execution_count": null,
   "metadata": {},
   "outputs": [],
   "source": [
    "print(\"Initial accuracy\")\n",
    "count_correct /samples / K"
   ]
  },
  {
   "cell_type": "code",
   "execution_count": null,
   "metadata": {},
   "outputs": [],
   "source": [
    "print(\"Noisy accuracy\")\n",
    "1-(count_wrong/K)"
   ]
  },
  {
   "cell_type": "code",
   "execution_count": null,
   "metadata": {},
   "outputs": [],
   "source": [
    "with open('data/corrupted_images.json', 'w', encoding='utf-8') as f:\n",
    "    json.dump(list_objects, f, ensure_ascii=False, indent=4)"
   ]
  },
  {
   "cell_type": "code",
   "execution_count": null,
   "metadata": {},
   "outputs": [],
   "source": [
    "with open('data/corrupted_images.json') as json_file:\n",
    "    data = json.load(json_file)"
   ]
  },
  {
   "cell_type": "code",
   "execution_count": null,
   "metadata": {},
   "outputs": [],
   "source": [
    "i = 102\n",
    "plt.figure(figsize=(2,2))\n",
    "img = np.array(data[i][\"noisy_img\"])/255\n",
    "\n",
    "plt.imshow(img)\n",
    "# np.shape(img)"
   ]
  },
  {
   "cell_type": "markdown",
   "metadata": {},
   "source": [
    "###### "
   ]
  },
  {
   "cell_type": "code",
   "execution_count": null,
   "metadata": {},
   "outputs": [],
   "source": [
    "len(data)"
   ]
  },
  {
   "cell_type": "code",
   "execution_count": null,
   "metadata": {},
   "outputs": [],
   "source": []
  }
 ],
 "metadata": {
  "kernelspec": {
   "display_name": "Python 3",
   "language": "python",
   "name": "python3"
  },
  "language_info": {
   "codemirror_mode": {
    "name": "ipython",
    "version": 3
   },
   "file_extension": ".py",
   "mimetype": "text/x-python",
   "name": "python",
   "nbconvert_exporter": "python",
   "pygments_lexer": "ipython3",
   "version": "3.7.0"
  }
 },
 "nbformat": 4,
 "nbformat_minor": 4
}
